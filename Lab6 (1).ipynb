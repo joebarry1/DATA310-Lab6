{
  "nbformat": 4,
  "nbformat_minor": 5,
  "metadata": {
    "kernelspec": {
      "display_name": "Python 3",
      "language": "python",
      "name": "python3"
    },
    "language_info": {
      "codemirror_mode": {
        "name": "ipython",
        "version": 3
      },
      "file_extension": ".py",
      "mimetype": "text/x-python",
      "name": "python",
      "nbconvert_exporter": "python",
      "pygments_lexer": "ipython3",
      "version": "3.8.8"
    },
    "colab": {
      "name": "Lab6.ipynb",
      "provenance": []
    }
  },
  "cells": [
    {
      "cell_type": "markdown",
      "metadata": {
        "id": "e49520ff-e0db-4c03-80d2-247e80a33bdd"
      },
      "source": [
        "# Lab 6"
      ],
      "id": "e49520ff-e0db-4c03-80d2-247e80a33bdd"
    },
    {
      "cell_type": "code",
      "metadata": {
        "id": "7330d44b-7313-4fe8-af71-01054ec85fb3"
      },
      "source": [
        "import numpy as np\n",
        "import pandas as pd\n",
        "from sklearn.ensemble import RandomForestClassifier as RFC\n",
        "from sklearn.naive_bayes import GaussianNB\n",
        "from sklearn.metrics import confusion_matrix\n",
        "from sklearn import tree\n",
        "from sklearn.tree import DecisionTreeClassifier as DTC"
      ],
      "id": "7330d44b-7313-4fe8-af71-01054ec85fb3",
      "execution_count": 1,
      "outputs": []
    },
    {
      "cell_type": "markdown",
      "metadata": {
        "id": "2ceb8d18-8603-4445-9964-27eb1c2263ec"
      },
      "source": [
        "## Q1"
      ],
      "id": "2ceb8d18-8603-4445-9964-27eb1c2263ec"
    },
    {
      "cell_type": "markdown",
      "metadata": {
        "id": "efe35fd2-cb0f-40d8-b175-e04b1f53fbd1"
      },
      "source": [
        "Without stopping criteria, a decision tree with iterate until it can no longer lower the GINI coefficient (or whatever metric is being used). This happens when the nodes contain items of only one class."
      ],
      "id": "efe35fd2-cb0f-40d8-b175-e04b1f53fbd1"
    },
    {
      "cell_type": "markdown",
      "metadata": {
        "id": "c9ea6c41-e64c-4e8a-8a76-7fee524439bc"
      },
      "source": [
        "## Q2"
      ],
      "id": "c9ea6c41-e64c-4e8a-8a76-7fee524439bc"
    },
    {
      "cell_type": "markdown",
      "metadata": {
        "id": "8fd4ebde-006e-4448-99e3-13f8b0990544"
      },
      "source": [
        "Decision trees do not rely on the continuation of earlier trends, like linear models do. As we have seen in class, with sufficient depth, a decision tree can closely follow a non-linear trendline."
      ],
      "id": "8fd4ebde-006e-4448-99e3-13f8b0990544"
    },
    {
      "cell_type": "markdown",
      "metadata": {
        "id": "279e5573-b145-4dcb-8dae-f43640cb8ac6"
      },
      "source": [
        "## Q3"
      ],
      "id": "279e5573-b145-4dcb-8dae-f43640cb8ac6"
    },
    {
      "cell_type": "markdown",
      "metadata": {
        "id": "b52350e1-1359-4eef-a752-43840ff4a499"
      },
      "source": [
        "This is the definition of the *n_estimators* parameter."
      ],
      "id": "b52350e1-1359-4eef-a752-43840ff4a499"
    },
    {
      "cell_type": "markdown",
      "metadata": {
        "id": "74cc8114-f4a0-482f-85d2-60848c215546"
      },
      "source": [
        "## Q4"
      ],
      "id": "74cc8114-f4a0-482f-85d2-60848c215546"
    },
    {
      "cell_type": "markdown",
      "metadata": {
        "id": "79fe7a28-38ef-495a-9298-245a2bfa576f"
      },
      "source": [
        "First we have to load the data."
      ],
      "id": "79fe7a28-38ef-495a-9298-245a2bfa576f"
    },
    {
      "cell_type": "code",
      "metadata": {
        "id": "ab98674b-ceca-49f6-a370-03885d011301"
      },
      "source": [
        "from sklearn.datasets import load_breast_cancer as lbc\n",
        "data = lbc()\n",
        "X = pd.DataFrame(data = data.data, columns = data.feature_names)\n",
        "y = data.target"
      ],
      "id": "ab98674b-ceca-49f6-a370-03885d011301",
      "execution_count": 2,
      "outputs": []
    },
    {
      "cell_type": "markdown",
      "metadata": {
        "id": "15a64d5b-af52-41e0-aec0-8b4a8add5cde"
      },
      "source": [
        "We will start with Naive Bayes."
      ],
      "id": "15a64d5b-af52-41e0-aec0-8b4a8add5cde"
    },
    {
      "cell_type": "code",
      "metadata": {
        "id": "8178abf7-071a-47db-b93b-83a5a4d3eb41"
      },
      "source": [
        "model = GaussianNB()\n",
        "model.fit(X, y)\n",
        "y_pred = model.predict(X)\n",
        "cm = confusion_matrix(y,y_pred)"
      ],
      "id": "8178abf7-071a-47db-b93b-83a5a4d3eb41",
      "execution_count": 3,
      "outputs": []
    },
    {
      "cell_type": "code",
      "metadata": {
        "colab": {
          "base_uri": "https://localhost:8080/",
          "height": 110
        },
        "id": "09357272-d99c-40d3-aab5-e39b56d97893",
        "outputId": "c5114e92-6bb7-4574-9f88-7f85e8a7e16a"
      },
      "source": [
        "pd.DataFrame(cm)"
      ],
      "id": "09357272-d99c-40d3-aab5-e39b56d97893",
      "execution_count": 4,
      "outputs": [
        {
          "output_type": "execute_result",
          "data": {
            "text/html": [
              "<div>\n",
              "<style scoped>\n",
              "    .dataframe tbody tr th:only-of-type {\n",
              "        vertical-align: middle;\n",
              "    }\n",
              "\n",
              "    .dataframe tbody tr th {\n",
              "        vertical-align: top;\n",
              "    }\n",
              "\n",
              "    .dataframe thead th {\n",
              "        text-align: right;\n",
              "    }\n",
              "</style>\n",
              "<table border=\"1\" class=\"dataframe\">\n",
              "  <thead>\n",
              "    <tr style=\"text-align: right;\">\n",
              "      <th></th>\n",
              "      <th>0</th>\n",
              "      <th>1</th>\n",
              "    </tr>\n",
              "  </thead>\n",
              "  <tbody>\n",
              "    <tr>\n",
              "      <th>0</th>\n",
              "      <td>189</td>\n",
              "      <td>23</td>\n",
              "    </tr>\n",
              "    <tr>\n",
              "      <th>1</th>\n",
              "      <td>10</td>\n",
              "      <td>347</td>\n",
              "    </tr>\n",
              "  </tbody>\n",
              "</table>\n",
              "</div>"
            ],
            "text/plain": [
              "     0    1\n",
              "0  189   23\n",
              "1   10  347"
            ]
          },
          "metadata": {
            "tags": []
          },
          "execution_count": 4
        }
      ]
    },
    {
      "cell_type": "markdown",
      "metadata": {
        "id": "332d38e7-f1a7-4837-8241-caddc6b16456"
      },
      "source": [
        "Remember that 0 is a positive case. In this DF, the actual case is along the x axis and the prediction is along the y axis. Thus, we are looking at the bottom-right number (10)."
      ],
      "id": "332d38e7-f1a7-4837-8241-caddc6b16456"
    },
    {
      "cell_type": "markdown",
      "metadata": {
        "id": "b0c59c49-a70d-412f-bcf7-87e1627b2729"
      },
      "source": [
        "Next, a single classification tree."
      ],
      "id": "b0c59c49-a70d-412f-bcf7-87e1627b2729"
    },
    {
      "cell_type": "code",
      "metadata": {
        "id": "83b66281-692f-4bd8-8303-a39afb21295a"
      },
      "source": [
        "model = DTC(max_depth = 5, random_state = 1693)\n",
        "model.fit(X, y)\n",
        "y_pred = model.predict(X)\n",
        "cm = confusion_matrix(y,y_pred)"
      ],
      "id": "83b66281-692f-4bd8-8303-a39afb21295a",
      "execution_count": 6,
      "outputs": []
    },
    {
      "cell_type": "code",
      "metadata": {
        "colab": {
          "base_uri": "https://localhost:8080/",
          "height": 110
        },
        "id": "f028fcd1-6012-4e97-8ecc-b41ea1ebd5a7",
        "outputId": "a7503c92-0e26-4c94-8a5c-fd92f62b7315"
      },
      "source": [
        "pd.DataFrame(cm)"
      ],
      "id": "f028fcd1-6012-4e97-8ecc-b41ea1ebd5a7",
      "execution_count": 7,
      "outputs": [
        {
          "output_type": "execute_result",
          "data": {
            "text/html": [
              "<div>\n",
              "<style scoped>\n",
              "    .dataframe tbody tr th:only-of-type {\n",
              "        vertical-align: middle;\n",
              "    }\n",
              "\n",
              "    .dataframe tbody tr th {\n",
              "        vertical-align: top;\n",
              "    }\n",
              "\n",
              "    .dataframe thead th {\n",
              "        text-align: right;\n",
              "    }\n",
              "</style>\n",
              "<table border=\"1\" class=\"dataframe\">\n",
              "  <thead>\n",
              "    <tr style=\"text-align: right;\">\n",
              "      <th></th>\n",
              "      <th>0</th>\n",
              "      <th>1</th>\n",
              "    </tr>\n",
              "  </thead>\n",
              "  <tbody>\n",
              "    <tr>\n",
              "      <th>0</th>\n",
              "      <td>209</td>\n",
              "      <td>3</td>\n",
              "    </tr>\n",
              "    <tr>\n",
              "      <th>1</th>\n",
              "      <td>0</td>\n",
              "      <td>357</td>\n",
              "    </tr>\n",
              "  </tbody>\n",
              "</table>\n",
              "</div>"
            ],
            "text/plain": [
              "     0    1\n",
              "0  209    3\n",
              "1    0  357"
            ]
          },
          "metadata": {
            "tags": []
          },
          "execution_count": 7
        }
      ]
    },
    {
      "cell_type": "markdown",
      "metadata": {
        "id": "55971451-8552-4dd3-ad1e-b330d1fc514c"
      },
      "source": [
        "There are no false negatives (three false positives). Lastly, let's do a Random Forest classifier."
      ],
      "id": "55971451-8552-4dd3-ad1e-b330d1fc514c"
    },
    {
      "cell_type": "code",
      "metadata": {
        "id": "a79fd518-daf8-4da4-9b5b-19747db3995e"
      },
      "source": [
        "model = RFC(random_state=1693, max_depth=5, n_estimators = 1000)\n",
        "model.fit(X, y)\n",
        "y_pred = model.predict(X)\n",
        "cm = confusion_matrix(y,y_pred)"
      ],
      "id": "a79fd518-daf8-4da4-9b5b-19747db3995e",
      "execution_count": 8,
      "outputs": []
    },
    {
      "cell_type": "code",
      "metadata": {
        "colab": {
          "base_uri": "https://localhost:8080/",
          "height": 110
        },
        "id": "7e79e38c-94f9-4470-bafd-7f129d33798d",
        "outputId": "f7852307-0117-43bd-f116-fe3da8327d42"
      },
      "source": [
        "pd.DataFrame(cm)"
      ],
      "id": "7e79e38c-94f9-4470-bafd-7f129d33798d",
      "execution_count": 9,
      "outputs": [
        {
          "output_type": "execute_result",
          "data": {
            "text/html": [
              "<div>\n",
              "<style scoped>\n",
              "    .dataframe tbody tr th:only-of-type {\n",
              "        vertical-align: middle;\n",
              "    }\n",
              "\n",
              "    .dataframe tbody tr th {\n",
              "        vertical-align: top;\n",
              "    }\n",
              "\n",
              "    .dataframe thead th {\n",
              "        text-align: right;\n",
              "    }\n",
              "</style>\n",
              "<table border=\"1\" class=\"dataframe\">\n",
              "  <thead>\n",
              "    <tr style=\"text-align: right;\">\n",
              "      <th></th>\n",
              "      <th>0</th>\n",
              "      <th>1</th>\n",
              "    </tr>\n",
              "  </thead>\n",
              "  <tbody>\n",
              "    <tr>\n",
              "      <th>0</th>\n",
              "      <td>209</td>\n",
              "      <td>3</td>\n",
              "    </tr>\n",
              "    <tr>\n",
              "      <th>1</th>\n",
              "      <td>0</td>\n",
              "      <td>357</td>\n",
              "    </tr>\n",
              "  </tbody>\n",
              "</table>\n",
              "</div>"
            ],
            "text/plain": [
              "     0    1\n",
              "0  209    3\n",
              "1    0  357"
            ]
          },
          "metadata": {
            "tags": []
          },
          "execution_count": 9
        }
      ]
    },
    {
      "cell_type": "markdown",
      "metadata": {
        "id": "f2361f8c-0835-4fa0-bae1-e6fe11a4b5ef"
      },
      "source": [
        "Once again, there are no false negatives. Thus, the Naive Bayes classifier had the most."
      ],
      "id": "f2361f8c-0835-4fa0-bae1-e6fe11a4b5ef"
    },
    {
      "cell_type": "markdown",
      "metadata": {
        "id": "c6f38dfd-d517-4e5a-9d49-cb5ce3847dae"
      },
      "source": [
        "## Q5"
      ],
      "id": "c6f38dfd-d517-4e5a-9d49-cb5ce3847dae"
    },
    {
      "cell_type": "markdown",
      "metadata": {
        "id": "f6aaa02b-6458-440a-8d0d-367750035679"
      },
      "source": [
        "This is the definition of a false positive."
      ],
      "id": "f6aaa02b-6458-440a-8d0d-367750035679"
    },
    {
      "cell_type": "markdown",
      "metadata": {
        "id": "6b8033ba-ac3f-4037-9de6-1d3b22be86b0"
      },
      "source": [
        "## Q6"
      ],
      "id": "6b8033ba-ac3f-4037-9de6-1d3b22be86b0"
    },
    {
      "cell_type": "markdown",
      "metadata": {
        "id": "5cc0e191-df1b-48fa-adbc-8d9297491c23"
      },
      "source": [
        "True; the equation for Naive Bayes classifiers yields a percentage probability of a given class."
      ],
      "id": "5cc0e191-df1b-48fa-adbc-8d9297491c23"
    },
    {
      "cell_type": "markdown",
      "metadata": {
        "id": "5736c094-f161-41d2-9c07-472474703dd6"
      },
      "source": [
        "## Q7"
      ],
      "id": "5736c094-f161-41d2-9c07-472474703dd6"
    },
    {
      "cell_type": "markdown",
      "metadata": {
        "id": "6a090f18-ec56-46cd-8be0-c6f2b51968cc"
      },
      "source": [
        "The root node is the \"top\" node, before any split has been made in the data."
      ],
      "id": "6a090f18-ec56-46cd-8be0-c6f2b51968cc"
    },
    {
      "cell_type": "markdown",
      "metadata": {
        "id": "60f7784f-ab72-4070-aa5e-c9dbbefdc214"
      },
      "source": [
        "## Q8"
      ],
      "id": "60f7784f-ab72-4070-aa5e-c9dbbefdc214"
    },
    {
      "cell_type": "markdown",
      "metadata": {
        "id": "69073111-1ddf-4c1e-a0b2-6e5bbd1ba59f"
      },
      "source": [
        "Soft classification gives a probability for each class, as opposed to returning only a single predicted class."
      ],
      "id": "69073111-1ddf-4c1e-a0b2-6e5bbd1ba59f"
    },
    {
      "cell_type": "markdown",
      "metadata": {
        "id": "591a600d-28ea-441c-893e-9524046df4a9"
      },
      "source": [
        "## Q9"
      ],
      "id": "591a600d-28ea-441c-893e-9524046df4a9"
    },
    {
      "cell_type": "markdown",
      "metadata": {
        "id": "81b926cf-da04-49c3-ab74-36b7c88b78b8"
      },
      "source": [
        "This is the definition of posterior probability."
      ],
      "id": "81b926cf-da04-49c3-ab74-36b7c88b78b8"
    },
    {
      "cell_type": "markdown",
      "metadata": {
        "id": "9c517617-331e-43d3-a985-71bf37693509"
      },
      "source": [
        "## Q10"
      ],
      "id": "9c517617-331e-43d3-a985-71bf37693509"
    },
    {
      "cell_type": "markdown",
      "metadata": {
        "id": "2ad685e2-fb31-4bf5-81c0-127fc7b6a5b3"
      },
      "source": [
        "As can be seen in Q4, these are the four ways in which data is grouped by a confusion matrix."
      ],
      "id": "2ad685e2-fb31-4bf5-81c0-127fc7b6a5b3"
    },
    {
      "cell_type": "markdown",
      "metadata": {
        "id": "2916f07e-3853-46a5-8bce-c3c595e86869"
      },
      "source": [
        "## Q11"
      ],
      "id": "2916f07e-3853-46a5-8bce-c3c595e86869"
    },
    {
      "cell_type": "markdown",
      "metadata": {
        "id": "595bc775-879b-47cd-8efa-66240eb2b938"
      },
      "source": [
        "Axons are the things which transmit electrical impulses from neuron to neuron through the brain. In a neural network, this is best represented by the connections between layers, or a given neuron's outputs."
      ],
      "id": "595bc775-879b-47cd-8efa-66240eb2b938"
    },
    {
      "cell_type": "markdown",
      "metadata": {
        "id": "686fc9c0-3aba-472d-9fff-da468e817c03"
      },
      "source": [
        "## Q12"
      ],
      "id": "686fc9c0-3aba-472d-9fff-da468e817c03"
    },
    {
      "cell_type": "markdown",
      "metadata": {
        "id": "6317debd-5206-4887-8f56-2e7bb72f985e"
      },
      "source": [
        "A set of definitions."
      ],
      "id": "6317debd-5206-4887-8f56-2e7bb72f985e"
    },
    {
      "cell_type": "markdown",
      "metadata": {
        "id": "ce2a9a54-4fa6-4bf7-8941-1b99fbe29b05"
      },
      "source": [
        "## Q13"
      ],
      "id": "ce2a9a54-4fa6-4bf7-8941-1b99fbe29b05"
    },
    {
      "cell_type": "markdown",
      "metadata": {
        "id": "b2f7e5b0-1581-44d6-90e9-8cba8b94cc99"
      },
      "source": [
        "The difference between these two methods is that in SGD, only a subset of the data is used to reduce the cost function. This constantly changing \"surface\" on which to minimize cost reduces the chance that some local minima sticks out, as it would have to do so over many iterations to stay put in a local minima."
      ],
      "id": "b2f7e5b0-1581-44d6-90e9-8cba8b94cc99"
    },
    {
      "cell_type": "markdown",
      "metadata": {
        "id": "0ca6a455-aaf8-4b2c-a987-66c91471b7f1"
      },
      "source": [
        "## Q14"
      ],
      "id": "0ca6a455-aaf8-4b2c-a987-66c91471b7f1"
    },
    {
      "cell_type": "code",
      "metadata": {
        "id": "655b2334-c252-439a-a733-4455349bc2df"
      },
      "source": [
        "# First, reduce X to just our two features.\n",
        "X = X[['mean radius','mean texture']]"
      ],
      "id": "655b2334-c252-439a-a733-4455349bc2df",
      "execution_count": 10,
      "outputs": []
    },
    {
      "cell_type": "code",
      "metadata": {
        "id": "a28fdd91-30d8-45ae-a82d-a53233add8e5"
      },
      "source": [
        "# Now, initializing and fitting the model with 10 folds\n",
        "model = GaussianNB()\n",
        "accuracies = []\n",
        "\n",
        "from sklearn.model_selection import KFold\n",
        "from sklearn.metrics import accuracy_score\n",
        "kf = KFold(n_splits=10, random_state=1693,shuffle=True)\n",
        "for train_index, test_index in kf.split(X):\n",
        "    X_train = X.values[train_index]\n",
        "    y_train = y[train_index]\n",
        "    X_test = X.values[test_index]\n",
        "    y_test = y[test_index]\n",
        "    model.fit(X_train, y_train)\n",
        "    y_pred = model.predict(X_test)\n",
        "    accuracies.append(accuracy_score(y_test,y_pred))\n",
        "    "
      ],
      "id": "a28fdd91-30d8-45ae-a82d-a53233add8e5",
      "execution_count": 11,
      "outputs": []
    },
    {
      "cell_type": "code",
      "metadata": {
        "colab": {
          "base_uri": "https://localhost:8080/"
        },
        "id": "2c626a4b-3880-448b-bbc6-dd0252a5dc4f",
        "outputId": "630f0aaf-4fd2-4ae5-b433-d7336eaed3eb"
      },
      "source": [
        "np.mean(accuracies)"
      ],
      "id": "2c626a4b-3880-448b-bbc6-dd0252a5dc4f",
      "execution_count": 12,
      "outputs": [
        {
          "output_type": "execute_result",
          "data": {
            "text/plain": [
              "0.8805137844611528"
            ]
          },
          "metadata": {
            "tags": []
          },
          "execution_count": 12
        }
      ]
    },
    {
      "cell_type": "markdown",
      "metadata": {
        "id": "aa589385-476a-4579-a924-8583096eeec0"
      },
      "source": [
        "Our mean accuracy is $.8805$."
      ],
      "id": "aa589385-476a-4579-a924-8583096eeec0"
    },
    {
      "cell_type": "markdown",
      "metadata": {
        "id": "8bc21aa9-8357-4aec-877e-861ac2492438"
      },
      "source": [
        "## Q15"
      ],
      "id": "8bc21aa9-8357-4aec-877e-861ac2492438"
    },
    {
      "cell_type": "markdown",
      "metadata": {
        "id": "a109b5a3-ea18-4069-b1d9-25232ab6fcd1"
      },
      "source": [
        "We can largely use the same method as the previous question."
      ],
      "id": "a109b5a3-ea18-4069-b1d9-25232ab6fcd1"
    },
    {
      "cell_type": "code",
      "metadata": {
        "id": "a08923f1-21ae-45c2-b303-d88c5899ecdf"
      },
      "source": [
        "# Now, initializing and fitting the model with 10 folds\n",
        "model = RFC(random_state=1693, max_depth=7, n_estimators = 100)\n",
        "accuracies = []\n",
        "\n",
        "from sklearn.model_selection import KFold\n",
        "from sklearn.metrics import accuracy_score\n",
        "kf = KFold(n_splits=10, random_state=1693,shuffle=True)\n",
        "for train_index, test_index in kf.split(X):\n",
        "    X_train = X.values[train_index]\n",
        "    y_train = y[train_index]\n",
        "    X_test = X.values[test_index]\n",
        "    y_test = y[test_index]\n",
        "    model.fit(X_train, y_train)\n",
        "    y_pred = model.predict(X_test)\n",
        "    accuracies.append(accuracy_score(y_test,y_pred))\n",
        "    "
      ],
      "id": "a08923f1-21ae-45c2-b303-d88c5899ecdf",
      "execution_count": 13,
      "outputs": []
    },
    {
      "cell_type": "code",
      "metadata": {
        "colab": {
          "base_uri": "https://localhost:8080/"
        },
        "id": "16f6316b-6602-44bd-9508-d05132858d7f",
        "outputId": "45d2b882-ed7a-46cc-8a96-fff2e8b3bdab"
      },
      "source": [
        "np.mean(accuracies)"
      ],
      "id": "16f6316b-6602-44bd-9508-d05132858d7f",
      "execution_count": 14,
      "outputs": [
        {
          "output_type": "execute_result",
          "data": {
            "text/plain": [
              "0.8804824561403508"
            ]
          },
          "metadata": {
            "tags": []
          },
          "execution_count": 14
        }
      ]
    },
    {
      "cell_type": "markdown",
      "metadata": {
        "id": "76c7c4ae-d896-4d74-b252-f7b3b747828b"
      },
      "source": [
        "Rounded, we have the same result: $.8805$."
      ],
      "id": "76c7c4ae-d896-4d74-b252-f7b3b747828b"
    },
    {
      "cell_type": "markdown",
      "metadata": {
        "id": "0aaf3b32-8f3c-4602-84c7-d8c03428e5cd"
      },
      "source": [
        "## Q16"
      ],
      "id": "0aaf3b32-8f3c-4602-84c7-d8c03428e5cd"
    },
    {
      "cell_type": "code",
      "metadata": {
        "id": "dcda6d3a-f2c6-4d6e-967f-321fe2376df9"
      },
      "source": [
        "# First, we need keras loaded\n",
        "!pip install tensorflow\n",
        "!pip install keras"
      ],
      "id": "dcda6d3a-f2c6-4d6e-967f-321fe2376df9",
      "execution_count": null,
      "outputs": []
    },
    {
      "cell_type": "code",
      "metadata": {
        "id": "7f90cd00-ee7f-4e7d-b376-f108f9ed4167"
      },
      "source": [
        "from tensorflow import keras\n",
        "import tensorflow as tf"
      ],
      "id": "7f90cd00-ee7f-4e7d-b376-f108f9ed4167",
      "execution_count": 17,
      "outputs": []
    },
    {
      "cell_type": "markdown",
      "metadata": {
        "id": "ZV8UjccEY12O"
      },
      "source": [
        "Next, we will construct our neural network."
      ],
      "id": "ZV8UjccEY12O"
    },
    {
      "cell_type": "code",
      "metadata": {
        "id": "9577a268-d8a7-4a16-8ca7-379adda2dea0"
      },
      "source": [
        "model = tf.keras.Sequential([keras.layers.Dense(16, activation = tf.nn.relu),\n",
        "                             keras.layers.Dense(8, activation = tf.nn.softmax),\n",
        "                            keras.layers.Dense(4, activation = tf.nn.relu),\n",
        "                             keras.layers.Dense(1, activation = tf.nn.sigmoid)])\n"
      ],
      "id": "9577a268-d8a7-4a16-8ca7-379adda2dea0",
      "execution_count": 18,
      "outputs": []
    },
    {
      "cell_type": "code",
      "metadata": {
        "id": "0711bdad-6f9f-4fe6-86ff-53838564f280"
      },
      "source": [
        "model.compile(loss='binary_crossentropy',\n",
        "              optimizer='adam',\n",
        "              metrics=['accuracy'])"
      ],
      "id": "0711bdad-6f9f-4fe6-86ff-53838564f280",
      "execution_count": 22,
      "outputs": []
    },
    {
      "cell_type": "code",
      "metadata": {
        "id": "dURfOf73adiL"
      },
      "source": [
        "model.fit(X, y, epochs = 150, validation_split = 0.25, batch_size = 10, shuffle = False)"
      ],
      "id": "dURfOf73adiL",
      "execution_count": null,
      "outputs": []
    },
    {
      "cell_type": "code",
      "metadata": {
        "colab": {
          "base_uri": "https://localhost:8080/"
        },
        "id": "DOpYO4dUa2J4",
        "outputId": "a48711cd-eb7b-47ab-c093-1b79d64c0f82"
      },
      "source": [
        "accuracies = []\n",
        "kf = KFold(n_splits=10, random_state=1693,shuffle=True)\n",
        "for train_index, test_index in kf.split(X):\n",
        "    X_train = X.values[train_index]\n",
        "    y_train = y[train_index]\n",
        "    X_test = X.values[test_index]\n",
        "    y_test = y[test_index]\n",
        "    model.fit(X_train, y_train, epochs = 150, validation_split = 0.25, batch_size = 10, shuffle = False, verbose = 0)\n",
        "    model.evaluate(X_test, y_test)"
      ],
      "id": "DOpYO4dUa2J4",
      "execution_count": 24,
      "outputs": [
        {
          "output_type": "stream",
          "text": [
            "2/2 [==============================] - 0s 6ms/step - loss: 0.1359 - accuracy: 0.9474\n",
            "2/2 [==============================] - 0s 5ms/step - loss: 0.3433 - accuracy: 0.8421\n",
            "2/2 [==============================] - 0s 5ms/step - loss: 0.2387 - accuracy: 0.8947\n",
            "2/2 [==============================] - 0s 5ms/step - loss: 0.3250 - accuracy: 0.8772\n",
            "2/2 [==============================] - 0s 4ms/step - loss: 0.2096 - accuracy: 0.9298\n",
            "2/2 [==============================] - 0s 8ms/step - loss: 0.3192 - accuracy: 0.8596\n",
            "2/2 [==============================] - 0s 5ms/step - loss: 0.1315 - accuracy: 0.9298\n",
            "2/2 [==============================] - 0s 4ms/step - loss: 0.2916 - accuracy: 0.8947\n",
            "2/2 [==============================] - 0s 8ms/step - loss: 0.3341 - accuracy: 0.8947\n",
            "2/2 [==============================] - 0s 5ms/step - loss: 0.2424 - accuracy: 0.9107\n"
          ],
          "name": "stdout"
        }
      ]
    },
    {
      "cell_type": "code",
      "metadata": {
        "id": "ldSas7EucYDf"
      },
      "source": [
        "#We can take the accuracies straight from the output\n",
        "accuracies = [.9474, .8421, .8947, .8772, .9298, .8596, .9298, .8947, .8947, .9107]"
      ],
      "id": "ldSas7EucYDf",
      "execution_count": 25,
      "outputs": []
    },
    {
      "cell_type": "code",
      "metadata": {
        "colab": {
          "base_uri": "https://localhost:8080/"
        },
        "id": "3mDfLyp-c2yw",
        "outputId": "72ed89c3-7f09-437c-b521-2a6ded9b1530"
      },
      "source": [
        "np.mean(accuracies)"
      ],
      "id": "3mDfLyp-c2yw",
      "execution_count": 26,
      "outputs": [
        {
          "output_type": "execute_result",
          "data": {
            "text/plain": [
              "0.89807"
            ]
          },
          "metadata": {
            "tags": []
          },
          "execution_count": 26
        }
      ]
    },
    {
      "cell_type": "markdown",
      "metadata": {
        "id": "be-t8UZGc9Ft"
      },
      "source": [
        "From the answer choices, the closest to $89.807\\%$ is $89\\%$."
      ],
      "id": "be-t8UZGc9Ft"
    }
  ]
}